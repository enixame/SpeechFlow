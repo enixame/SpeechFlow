{
 "cells": [
  {
   "cell_type": "code",
   "execution_count": 2,
   "metadata": {},
   "outputs": [
    {
     "name": "stdout",
     "output_type": "stream",
     "text": [
      "Device 0: Mappeur de sons Microsoft - Input (rate: 44100.0)\n",
      "Device 1: External Microphone Headphone ( (rate: 44100.0)\n",
      "Device 2: Mappeur de sons Microsoft - Output (rate: 44100.0)\n",
      "Device 3: BenQ EL2870U (NVIDIA High Defin (rate: 44100.0)\n",
      "Device 4: Haut-parleurs (Virtual Audio De (rate: 44100.0)\n",
      "Device 5: Pilote de capture audio principal (rate: 44100.0)\n",
      "Device 6: External Microphone Headphone (Shadow Virtual Audio Device) (rate: 44100.0)\n",
      "Device 7: PÃ©riphÃ©rique audio principal (rate: 44100.0)\n",
      "Device 8: BenQ EL2870U (NVIDIA High Definition Audio) (rate: 44100.0)\n",
      "Device 9: Haut-parleurs (Virtual Audio Device (WDM) - ShadowVirtualSpeaker) (rate: 44100.0)\n",
      "Device 10: Haut-parleurs (Virtual Audio Device (WDM) - ShadowVirtualSpeaker) (rate: 48000.0)\n",
      "Device 11: BenQ EL2870U (NVIDIA High Definition Audio) (rate: 48000.0)\n",
      "Device 12: External Microphone Headphone (Shadow Virtual Audio Device) (rate: 48000.0)\n",
      "Device 13: Output (NVIDIA High Definition Audio) (rate: 48000.0)\n",
      "Device 14: Speakers (ShadowVirtualSpeaker Wave Speaker) (rate: 48000.0)\n",
      "Device 15: External Microphone Headphone (SYSVAD Wave Microphone Headphone) (rate: 48000.0)\n",
      "Rate: 44100\n"
     ]
    }
   ],
   "source": [
    "import pyaudio\n",
    "\n",
    "# Initialize PyAudio for capturing audio from the microphone\n",
    "p = pyaudio.PyAudio()\n",
    "\n",
    "for i in range(p.get_device_count()):\n",
    "    info = p.get_device_info_by_index(i)\n",
    "    print(f\"Device {i}: {info['name']} (rate: {info['defaultSampleRate']})\")\n",
    "\n",
    "selected_device_index = 0  # Change this according to your needs or based on user input\n",
    "\n",
    "info = p.get_device_info_by_index(selected_device_index)\n",
    "default_rate = int(info['defaultSampleRate'])  # Get default sample rate of the selected device\n",
    "RATE = default_rate if default_rate > 0 else 16000  # Fallback to 16000 if no valid rate is found\n",
    "\n",
    "print(f\"Rate: {RATE}\")"
   ]
  }
 ],
 "metadata": {
  "kernelspec": {
   "display_name": ".venv",
   "language": "python",
   "name": "python3"
  },
  "language_info": {
   "codemirror_mode": {
    "name": "ipython",
    "version": 3
   },
   "file_extension": ".py",
   "mimetype": "text/x-python",
   "name": "python",
   "nbconvert_exporter": "python",
   "pygments_lexer": "ipython3",
   "version": "3.12.5"
  }
 },
 "nbformat": 4,
 "nbformat_minor": 2
}
